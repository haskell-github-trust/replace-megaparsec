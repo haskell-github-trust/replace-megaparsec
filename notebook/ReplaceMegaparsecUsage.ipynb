{
 "cells": [
  {
   "cell_type": "markdown",
   "metadata": {},
   "source": [
    "This [__IHaskell__](https://github.com/gibiansky/IHaskell) notebook is running with the following environment:"
   ]
  },
  {
   "cell_type": "code",
   "execution_count": 1,
   "metadata": {},
   "outputs": [
    {
     "data": {
      "text/plain": [
       "The Glorious Glasgow Haskell Compilation System, version 8.8.4"
      ]
     },
     "metadata": {},
     "output_type": "display_data"
    },
    {
     "data": {
      "text/plain": [
       "resolver: lts-16.23"
      ]
     },
     "metadata": {},
     "output_type": "display_data"
    },
    {
     "data": {
      "text/plain": [
       "    replace-megaparsec-1.4.4.0"
      ]
     },
     "metadata": {},
     "output_type": "display_data"
    }
   ],
   "source": [
    ":! ghc --version\n",
    ":! grep resolver /opt/stack/global-project/stack.yaml\n",
    ":! ghc-pkg list | grep replace-megaparsec"
   ]
  },
  {
   "cell_type": "markdown",
   "metadata": {},
   "source": [
    "For more information, see [ihaskell-notebook](https://github.com/jamesdbrock/ihaskell-notebook)"
   ]
  },
  {
   "cell_type": "markdown",
   "metadata": {},
   "source": [
    "# Usage Examples for [__replace-megaparsec__](https://github.com/jamesdbrock/replace-megaparsec)"
   ]
  },
  {
   "cell_type": "code",
   "execution_count": 2,
   "metadata": {},
   "outputs": [],
   "source": [
    "import Data.Void\n",
    "import Replace.Megaparsec\n",
    "import Text.Megaparsec\n",
    "import Text.Megaparsec.Char\n",
    "import Text.Megaparsec.Char.Lexer"
   ]
  },
  {
   "cell_type": "markdown",
   "metadata": {},
   "source": [
    "## Split strings with [`splitCap`](https://hackage.haskell.org/package/replace-megaparsec/docs/Replace-Megaparsec.html#v:splitCap)\n",
    "\n",
    "### Find all pattern matches, capture the matched text and the parsed result\n",
    "\n",
    "Separate the input string into sections which can be parsed as a hexadecimal\n",
    "number with a prefix `\"0x\"`, and sections which can't. Parse the numbers."
   ]
  },
  {
   "cell_type": "code",
   "execution_count": 3,
   "metadata": {},
   "outputs": [
    {
     "data": {
      "text/plain": [
       "[Right (\"0xA\",10),Left \" 000 \",Right (\"0xFFFF\",65535)]"
      ]
     },
     "metadata": {},
     "output_type": "display_data"
    }
   ],
   "source": [
    "let hexparser = chunk \"0x\" *> hexadecimal :: Parsec Void String Integer\n",
    "splitCap (match hexparser) \"0xA 000 0xFFFF\""
   ]
  },
  {
   "cell_type": "markdown",
   "metadata": {},
   "source": [
    "### Find all pattern matches, capture only the locations of the matched patterns\n",
    "\n",
    "Find all of the sections of the stream which are letters. Capture a list of\n",
    "the offsets of the beginning of every pattern match."
   ]
  },
  {
   "cell_type": "code",
   "execution_count": 4,
   "metadata": {},
   "outputs": [
    {
     "data": {
      "text/plain": [
       "[1,4]"
      ]
     },
     "metadata": {},
     "output_type": "display_data"
    }
   ],
   "source": [
    "import Data.Either\n",
    "let letterOffset = getOffset <* some letterChar :: Parsec Void String Int\n",
    "rights $ splitCap letterOffset \" a  bc \""
   ]
  },
  {
   "cell_type": "markdown",
   "metadata": {},
   "source": [
    "### Pattern match balanced parentheses\n",
    "\n",
    "Find groups of balanced nested parentheses. This is an example of a\n",
    "“context-free” grammar, a pattern that can't be expressed by a regular\n",
    "expression. We can express the pattern with a recursive parser."
   ]
  },
  {
   "cell_type": "code",
   "execution_count": 5,
   "metadata": {},
   "outputs": [
    {
     "data": {
      "text/plain": [
       "[Right \"(())\",Left \" \",Right \"(()())\"]"
      ]
     },
     "metadata": {},
     "output_type": "display_data"
    }
   ],
   "source": [
    "import Data.Functor (void)\n",
    "import Data.Bifunctor (second)\n",
    "let parens :: Parsec Void String ()\n",
    "    parens = do\n",
    "        char '('\n",
    "        manyTill\n",
    "            (void (noneOf \"()\") <|> void parens)\n",
    "            (char ')')\n",
    "        pure ()\n",
    "\n",
    "second fst <$> splitCap (match parens) \"(()) (()())\""
   ]
  },
  {
   "cell_type": "markdown",
   "metadata": {},
   "source": [
    "## Edit strings with [`streamEdit`](https://hackage.haskell.org/package/replace-megaparsec/docs/Replace-Megaparsec.html#v:streamEdit)\n",
    "\n",
    "The following examples show how to search for a pattern in a string of text\n",
    "and then edit the string of text to substitute in some replacement text\n",
    "for the matched patterns.\n",
    "\n",
    "### Pattern match and replace with a constant\n",
    "\n",
    "Replace all carriage-return-newline instances with newline."
   ]
  },
  {
   "cell_type": "code",
   "execution_count": 6,
   "metadata": {},
   "outputs": [
    {
     "data": {
      "text/plain": [
       "\"1\\n2\\n\""
      ]
     },
     "metadata": {},
     "output_type": "display_data"
    }
   ],
   "source": [
    "let crnl = chunk \"\\r\\n\" :: Parsec Void String String\n",
    "streamEdit crnl (const \"\\n\") \"1\\r\\n2\\r\\n\""
   ]
  },
  {
   "cell_type": "markdown",
   "metadata": {},
   "source": [
    "### Pattern match and edit the matches\n",
    "\n",
    "Replace alphabetic characters with the next character in the alphabet."
   ]
  },
  {
   "cell_type": "code",
   "execution_count": 7,
   "metadata": {},
   "outputs": [
    {
     "data": {
      "text/plain": [
       "\"IBM 9000\""
      ]
     },
     "metadata": {},
     "output_type": "display_data"
    }
   ],
   "source": [
    "let somelet = some letterChar :: Parsec Void String String\n",
    "streamEdit somelet (fmap succ) \"HAL 9000\""
   ]
  },
  {
   "cell_type": "markdown",
   "metadata": {},
   "source": [
    "### Pattern match and maybe edit the matches, or maybe leave them alone\n",
    "\n",
    "Find all of the string sections *`s`* which can be parsed as a\n",
    "hexadecimal number *`r`*,\n",
    "and if *`r≤16`*, then replace *`s`* with a decimal number. Uses the\n",
    "[`match`](https://hackage.haskell.org/package/megaparsec/docs/Text-Megaparsec.html#v:match)\n",
    "combinator."
   ]
  },
  {
   "cell_type": "code",
   "execution_count": 8,
   "metadata": {},
   "outputs": [
    {
     "data": {
      "text/plain": [
       "\"10 000 0xFFFF\""
      ]
     },
     "metadata": {},
     "output_type": "display_data"
    }
   ],
   "source": [
    "let hexparser = chunk \"0x\" *> hexadecimal :: Parsec Void String Integer\n",
    "streamEdit (match hexparser) (\\(s,r) -> if r<=16 then show r else s) \"0xA 000 0xFFFF\""
   ]
  },
  {
   "cell_type": "markdown",
   "metadata": {},
   "source": [
    "### Pattern match and edit the matches in IO with [`streamEditT`](https://hackage.haskell.org/package/replace-megaparsec/docs/Replace-Megaparsec.html#v:streamEditT)\n",
    "\n",
    "Find an environment variable in curly braces and replace it with its\n",
    "value from the environment."
   ]
  },
  {
   "cell_type": "code",
   "execution_count": 9,
   "metadata": {},
   "outputs": [
    {
     "data": {
      "text/plain": [
       "\"- /home/jovyan -\""
      ]
     },
     "metadata": {},
     "output_type": "display_data"
    }
   ],
   "source": [
    "import System.Environment (getEnv)\n",
    "let bracevar = char '{' *> manyTill anySingle (char '}') :: ParsecT Void String IO String\n",
    "streamEditT bracevar getEnv \"- {HOME} -\""
   ]
  },
  {
   "cell_type": "markdown",
   "metadata": {},
   "source": [
    "### Context-sensitive pattern match and edit the matches with [`streamEditT`](https://hackage.haskell.org/package/replace-megaparsec/docs/Replace-Megaparsec.html#v:streamEditT)\n",
    "\n",
    "Capitalize the third letter in a string. The `capThird` parser searches for\n",
    "individual letters, and it needs to remember how many times it has run so\n",
    "that it can match successfully only on the third time that it finds a letter.\n",
    "To enable the parser to remember how many times it has run, we'll\n",
    "compose the parser with a [`State`](https://hackage.haskell.org/package/mtl/docs/Control-Monad-State-Lazy.html#t:State) monad from\n",
    "the `mtl` package. Because it has\n",
    "stateful memory, this parser is an example of a “context-sensitive” grammar."
   ]
  },
  {
   "cell_type": "code",
   "execution_count": 10,
   "metadata": {},
   "outputs": [
    {
     "data": {
      "text/plain": [
       "\"a a A a a\""
      ]
     },
     "metadata": {},
     "output_type": "display_data"
    }
   ],
   "source": [
    "import qualified Control.Monad.State.Strict as MTL\n",
    "import Control.Monad.State.Strict (get, put, evalState)\n",
    "import Data.Char (toUpper)\n",
    "\n",
    "let capThird :: ParsecT Void String (MTL.State Int) String\n",
    "    capThird = do\n",
    "        x <- letterChar\n",
    "        i <- get\n",
    "        let i' = i+1\n",
    "        put i'\n",
    "        if i'==3 then return [x] else empty\n",
    "\n",
    "flip evalState 0 $ streamEditT capThird (pure . fmap toUpper) \"a a a a a\""
   ]
  },
  {
   "cell_type": "markdown",
   "metadata": {},
   "source": [
    "### Pattern match, edit the matches, and count the edits with [`streamEditT`](https://hackage.haskell.org/package/replace-megaparsec/docs/Replace-Megaparsec.html#v:streamEditT)\n",
    "\n",
    "Find and capitalize no more than three letters in a string, and return the edited string along with the number of letters capitalized. To enable the editor function to remember how many letters it has capitalized, we'll run `streamEditT` in the `State` monad from the `mtl` package. Use this technique to get the same functionality as Python [`re.subn`](https://docs.python.org/3/library/re.html#re.subn)."
   ]
  },
  {
   "cell_type": "code",
   "execution_count": 11,
   "metadata": {},
   "outputs": [
    {
     "data": {
      "text/plain": [
       "(\"A A A a a\",3)"
      ]
     },
     "metadata": {},
     "output_type": "display_data"
    }
   ],
   "source": [
    "import qualified Control.Monad.State.Strict as MTL\n",
    "import Control.Monad.State.Strict (get, put, runState)\n",
    "import Data.Char (toUpper)\n",
    "        \n",
    "let editThree :: Char -> MTL.State Int String\n",
    "    editThree x = do\n",
    "        i <- get\n",
    "        let i' = i+1\n",
    "        if i'<=3\n",
    "            then do\n",
    "                put i'\n",
    "                pure [toUpper x]\n",
    "            else pure [x]\n",
    "\n",
    "flip runState 0 $ streamEditT letterChar editThree \"a a a a a\""
   ]
  }
 ],
 "metadata": {
  "kernelspec": {
   "display_name": "Haskell",
   "language": "haskell",
   "name": "haskell"
  },
  "language_info": {
   "codemirror_mode": "Haskell",
   "file_extension": ".hs",
   "mimetype": "text/x-haskell",
   "name": "haskell",
   "pygments_lexer": "Haskell",
   "version": "8.8.4"
  }
 },
 "nbformat": 4,
 "nbformat_minor": 4
}
